{
 "cells": [
  {
   "cell_type": "code",
   "execution_count": 21,
   "metadata": {
    "ExecuteTime": {
     "end_time": "2020-02-28T19:47:24.651821Z",
     "start_time": "2020-02-28T19:47:24.649956Z"
    }
   },
   "outputs": [],
   "source": [
    "import os\n",
    "import re"
   ]
  },
  {
   "cell_type": "code",
   "execution_count": 22,
   "metadata": {
    "ExecuteTime": {
     "end_time": "2020-02-28T19:47:24.686734Z",
     "start_time": "2020-02-28T19:47:24.652812Z"
    },
    "scrolled": true
   },
   "outputs": [],
   "source": [
    "with open(\"merged_got_books.txt\",'r') as f:\n",
    "    string = f.read()"
   ]
  },
  {
   "cell_type": "code",
   "execution_count": 23,
   "metadata": {
    "ExecuteTime": {
     "end_time": "2020-02-28T19:47:24.691133Z",
     "start_time": "2020-02-28T19:47:24.687979Z"
    }
   },
   "outputs": [],
   "source": [
    "def preprocess_text(input_str):\n",
    "    regex_pattern = '(page|PAGE|Page)(\\s+\\|\\s+)([0-9]+)(.*)$'\n",
    "    cleaned_output = re.sub('\\s$', '', input_str, flags=re.MULTILINE)\n",
    "    compiled_pattern = re.compile(regex_pattern, re.MULTILINE)\n",
    "    cleaned_output = compiled_pattern.sub(\" \", cleaned_output)\n",
    "    return cleaned_output"
   ]
  },
  {
   "cell_type": "code",
   "execution_count": 24,
   "metadata": {
    "ExecuteTime": {
     "end_time": "2020-02-28T19:47:24.760530Z",
     "start_time": "2020-02-28T19:47:24.692096Z"
    }
   },
   "outputs": [],
   "source": [
    "check = preprocess_text(string)\n",
    "with open(\"output_cleaned.txt\",'w') as f:\n",
    "     f.writelines(check)"
   ]
  },
  {
   "cell_type": "code",
   "execution_count": 25,
   "metadata": {
    "ExecuteTime": {
     "end_time": "2020-02-28T19:47:25.055590Z",
     "start_time": "2020-02-28T19:47:25.053151Z"
    }
   },
   "outputs": [],
   "source": [
    "train_doc =[]\n",
    "val_doc =[]"
   ]
  },
  {
   "cell_type": "code",
   "execution_count": 26,
   "metadata": {
    "ExecuteTime": {
     "end_time": "2020-02-28T19:47:25.073440Z",
     "start_time": "2020-02-28T19:47:25.056562Z"
    }
   },
   "outputs": [],
   "source": [
    "with open(\"output_cleaned.txt\",'r') as f:\n",
    "    file_input=f.readlines()"
   ]
  },
  {
   "cell_type": "code",
   "execution_count": 27,
   "metadata": {
    "ExecuteTime": {
     "end_time": "2020-02-28T19:47:25.104797Z",
     "start_time": "2020-02-28T19:47:25.083650Z"
    }
   },
   "outputs": [],
   "source": [
    "count = 0\n",
    "for cnt, line in enumerate(file_input):\n",
    "        if cnt <= len(file_input)*0.90:\n",
    "            train_doc.append(line)\n",
    "        else:\n",
    "            val_doc.append(line)\n",
    "    "
   ]
  },
  {
   "cell_type": "code",
   "execution_count": 28,
   "metadata": {
    "ExecuteTime": {
     "end_time": "2020-02-28T19:47:25.170417Z",
     "start_time": "2020-02-28T19:47:25.110761Z"
    }
   },
   "outputs": [],
   "source": [
    "## Write to file\n",
    "f = open('train_got.txt', \"w+\")\n",
    "count = 0\n",
    "for line in train_doc:\n",
    "    count=count+1\n",
    "    f.write(str(line))\n",
    "    f.write(\"\\n\")\n",
    "    \n",
    "f.close()\n",
    "\n",
    "## Write to file\n",
    "f = open('val_got.txt', \"w+\")\n",
    "count = 0\n",
    "for line in val_doc:\n",
    "    count=count+1\n",
    "    f.write(str(line))\n",
    "    f.write(\"\\n\")\n",
    "    \n",
    "f.close()"
   ]
  },
  {
   "cell_type": "code",
   "execution_count": 29,
   "metadata": {},
   "outputs": [],
   "source": [
    "train_count = 0\n",
    "val_count = 0\n",
    "total_lines = len(file_input)\n",
    "train_cutoff = int(total_lines * 0.90)\n",
    "\n",
    "for index, line in enumerate(file_input):\n",
    "    if index <= train_cutoff:\n",
    "        train_doc.append(line)\n",
    "    else:\n",
    "        val_doc.append(line)"
   ]
  },
  {
   "cell_type": "code",
   "execution_count": 30,
   "metadata": {},
   "outputs": [],
   "source": [
    "with open('train_got.txt', \"w+\") as train_file:\n",
    "    for line in train_doc:\n",
    "        train_count += 1\n",
    "        train_file.write(str(line))\n",
    "        train_file.write(\"\\n\")"
   ]
  },
  {
   "cell_type": "code",
   "execution_count": 31,
   "metadata": {},
   "outputs": [],
   "source": [
    "with open('val_got.txt', \"w+\") as val_file:\n",
    "    for line in val_doc:\n",
    "        val_count += 1\n",
    "        val_file.write(str(line))\n",
    "        val_file.write(\"\\n\")"
   ]
  }
 ],
 "metadata": {
  "kernelspec": {
   "display_name": "Python 3",
   "language": "python",
   "name": "python3"
  },
  "language_info": {
   "codemirror_mode": {
    "name": "ipython",
    "version": 3
   },
   "file_extension": ".py",
   "mimetype": "text/x-python",
   "name": "python",
   "nbconvert_exporter": "python",
   "pygments_lexer": "ipython3",
   "version": "3.9.9"
  },
  "toc": {
   "base_numbering": 1,
   "nav_menu": {},
   "number_sections": true,
   "sideBar": true,
   "skip_h1_title": false,
   "title_cell": "Table of Contents",
   "title_sidebar": "Contents",
   "toc_cell": false,
   "toc_position": {},
   "toc_section_display": true,
   "toc_window_display": true
  }
 },
 "nbformat": 4,
 "nbformat_minor": 2
}
